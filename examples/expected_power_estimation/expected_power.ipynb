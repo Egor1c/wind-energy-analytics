{
 "cells": [
  {
   "cell_type": "markdown",
   "id": "aa228b8f",
   "metadata": {},
   "source": [
    "### Example of expected power module usage"
   ]
  },
  {
   "cell_type": "code",
   "execution_count": 1,
   "id": "196b067c-57fc-48e6-89ab-f08ef894cb96",
   "metadata": {},
   "outputs": [],
   "source": [
    "import pandas as pd\n",
    "import matplotlib.pyplot as plt\n",
    "import seaborn as sns\n",
    "\n",
    "from sklearn.metrics import mean_squared_error\n",
    "from scada_data_analysis.modules.expected_power import ExpectedPower"
   ]
  },
  {
   "cell_type": "markdown",
   "id": "fee8317d-f89c-48b0-a6f2-dbff9a97a19b",
   "metadata": {},
   "source": [
    "### Explore the data"
   ]
  },
  {
   "cell_type": "code",
   "execution_count": 2,
   "id": "37ec5254-88b0-4b7e-a480-c44edbba3cf6",
   "metadata": {},
   "outputs": [
    {
     "data": {
      "text/html": [
       "<div>\n",
       "<style scoped>\n",
       "    .dataframe tbody tr th:only-of-type {\n",
       "        vertical-align: middle;\n",
       "    }\n",
       "\n",
       "    .dataframe tbody tr th {\n",
       "        vertical-align: top;\n",
       "    }\n",
       "\n",
       "    .dataframe thead th {\n",
       "        text-align: right;\n",
       "    }\n",
       "</style>\n",
       "<table border=\"1\" class=\"dataframe\">\n",
       "  <thead>\n",
       "    <tr style=\"text-align: right;\">\n",
       "      <th></th>\n",
       "      <th>Wind_turbine_name</th>\n",
       "      <th>Date_time</th>\n",
       "      <th>Ba_avg</th>\n",
       "      <th>Ba_min</th>\n",
       "      <th>Ba_max</th>\n",
       "      <th>Ba_std</th>\n",
       "      <th>Rt_avg</th>\n",
       "      <th>Rt_min</th>\n",
       "      <th>Rt_max</th>\n",
       "      <th>Rt_std</th>\n",
       "      <th>...</th>\n",
       "      <th>Pas_max</th>\n",
       "      <th>Pas_std</th>\n",
       "      <th>Wa_c_avg</th>\n",
       "      <th>Wa_c_min</th>\n",
       "      <th>Wa_c_max</th>\n",
       "      <th>Wa_c_std</th>\n",
       "      <th>Na_c_avg</th>\n",
       "      <th>Na_c_min</th>\n",
       "      <th>Na_c_max</th>\n",
       "      <th>Na_c_std</th>\n",
       "    </tr>\n",
       "  </thead>\n",
       "  <tbody>\n",
       "    <tr>\n",
       "      <th>0</th>\n",
       "      <td>R80721</td>\n",
       "      <td>2017-02-08T08:00:00+01:00</td>\n",
       "      <td>44.990002</td>\n",
       "      <td>44.990002</td>\n",
       "      <td>44.990002</td>\n",
       "      <td>0.0</td>\n",
       "      <td>14.0</td>\n",
       "      <td>14.0</td>\n",
       "      <td>14.0</td>\n",
       "      <td>0.0</td>\n",
       "      <td>...</td>\n",
       "      <td>NaN</td>\n",
       "      <td>NaN</td>\n",
       "      <td>358.04999</td>\n",
       "      <td>NaN</td>\n",
       "      <td>NaN</td>\n",
       "      <td>NaN</td>\n",
       "      <td>358.04999</td>\n",
       "      <td>NaN</td>\n",
       "      <td>NaN</td>\n",
       "      <td>NaN</td>\n",
       "    </tr>\n",
       "    <tr>\n",
       "      <th>1</th>\n",
       "      <td>R80721</td>\n",
       "      <td>2017-01-26T02:40:00+01:00</td>\n",
       "      <td>-1.000000</td>\n",
       "      <td>-1.000000</td>\n",
       "      <td>-1.000000</td>\n",
       "      <td>0.0</td>\n",
       "      <td>10.0</td>\n",
       "      <td>10.0</td>\n",
       "      <td>10.0</td>\n",
       "      <td>0.0</td>\n",
       "      <td>...</td>\n",
       "      <td>NaN</td>\n",
       "      <td>NaN</td>\n",
       "      <td>NaN</td>\n",
       "      <td>NaN</td>\n",
       "      <td>NaN</td>\n",
       "      <td>NaN</td>\n",
       "      <td>NaN</td>\n",
       "      <td>NaN</td>\n",
       "      <td>NaN</td>\n",
       "      <td>NaN</td>\n",
       "    </tr>\n",
       "    <tr>\n",
       "      <th>2</th>\n",
       "      <td>R80721</td>\n",
       "      <td>2017-01-26T13:50:00+01:00</td>\n",
       "      <td>-1.000000</td>\n",
       "      <td>-1.000000</td>\n",
       "      <td>-1.000000</td>\n",
       "      <td>0.0</td>\n",
       "      <td>10.0</td>\n",
       "      <td>10.0</td>\n",
       "      <td>10.0</td>\n",
       "      <td>0.0</td>\n",
       "      <td>...</td>\n",
       "      <td>NaN</td>\n",
       "      <td>NaN</td>\n",
       "      <td>NaN</td>\n",
       "      <td>NaN</td>\n",
       "      <td>NaN</td>\n",
       "      <td>NaN</td>\n",
       "      <td>NaN</td>\n",
       "      <td>NaN</td>\n",
       "      <td>NaN</td>\n",
       "      <td>NaN</td>\n",
       "    </tr>\n",
       "    <tr>\n",
       "      <th>3</th>\n",
       "      <td>R80721</td>\n",
       "      <td>2017-01-26T15:00:00+01:00</td>\n",
       "      <td>-1.000000</td>\n",
       "      <td>-1.000000</td>\n",
       "      <td>-1.000000</td>\n",
       "      <td>0.0</td>\n",
       "      <td>10.0</td>\n",
       "      <td>10.0</td>\n",
       "      <td>10.0</td>\n",
       "      <td>0.0</td>\n",
       "      <td>...</td>\n",
       "      <td>NaN</td>\n",
       "      <td>NaN</td>\n",
       "      <td>NaN</td>\n",
       "      <td>NaN</td>\n",
       "      <td>NaN</td>\n",
       "      <td>NaN</td>\n",
       "      <td>NaN</td>\n",
       "      <td>NaN</td>\n",
       "      <td>NaN</td>\n",
       "      <td>NaN</td>\n",
       "    </tr>\n",
       "    <tr>\n",
       "      <th>4</th>\n",
       "      <td>R80721</td>\n",
       "      <td>2017-02-18T01:10:00+01:00</td>\n",
       "      <td>44.990002</td>\n",
       "      <td>44.990002</td>\n",
       "      <td>44.990002</td>\n",
       "      <td>0.0</td>\n",
       "      <td>17.0</td>\n",
       "      <td>17.0</td>\n",
       "      <td>17.0</td>\n",
       "      <td>0.0</td>\n",
       "      <td>...</td>\n",
       "      <td>NaN</td>\n",
       "      <td>NaN</td>\n",
       "      <td>7.99000</td>\n",
       "      <td>NaN</td>\n",
       "      <td>NaN</td>\n",
       "      <td>NaN</td>\n",
       "      <td>7.99000</td>\n",
       "      <td>NaN</td>\n",
       "      <td>NaN</td>\n",
       "      <td>NaN</td>\n",
       "    </tr>\n",
       "  </tbody>\n",
       "</table>\n",
       "<p>5 rows × 138 columns</p>\n",
       "</div>"
      ],
      "text/plain": [
       "  Wind_turbine_name                  Date_time     Ba_avg     Ba_min  \\\n",
       "0            R80721  2017-02-08T08:00:00+01:00  44.990002  44.990002   \n",
       "1            R80721  2017-01-26T02:40:00+01:00  -1.000000  -1.000000   \n",
       "2            R80721  2017-01-26T13:50:00+01:00  -1.000000  -1.000000   \n",
       "3            R80721  2017-01-26T15:00:00+01:00  -1.000000  -1.000000   \n",
       "4            R80721  2017-02-18T01:10:00+01:00  44.990002  44.990002   \n",
       "\n",
       "      Ba_max  Ba_std  Rt_avg  Rt_min  Rt_max  Rt_std  ...  Pas_max  Pas_std  \\\n",
       "0  44.990002     0.0    14.0    14.0    14.0     0.0  ...      NaN      NaN   \n",
       "1  -1.000000     0.0    10.0    10.0    10.0     0.0  ...      NaN      NaN   \n",
       "2  -1.000000     0.0    10.0    10.0    10.0     0.0  ...      NaN      NaN   \n",
       "3  -1.000000     0.0    10.0    10.0    10.0     0.0  ...      NaN      NaN   \n",
       "4  44.990002     0.0    17.0    17.0    17.0     0.0  ...      NaN      NaN   \n",
       "\n",
       "    Wa_c_avg  Wa_c_min  Wa_c_max  Wa_c_std   Na_c_avg  Na_c_min  Na_c_max  \\\n",
       "0  358.04999       NaN       NaN       NaN  358.04999       NaN       NaN   \n",
       "1        NaN       NaN       NaN       NaN        NaN       NaN       NaN   \n",
       "2        NaN       NaN       NaN       NaN        NaN       NaN       NaN   \n",
       "3        NaN       NaN       NaN       NaN        NaN       NaN       NaN   \n",
       "4    7.99000       NaN       NaN       NaN    7.99000       NaN       NaN   \n",
       "\n",
       "   Na_c_std  \n",
       "0       NaN  \n",
       "1       NaN  \n",
       "2       NaN  \n",
       "3       NaN  \n",
       "4       NaN  \n",
       "\n",
       "[5 rows x 138 columns]"
      ]
     },
     "execution_count": 2,
     "metadata": {},
     "output_type": "execute_result"
    }
   ],
   "source": [
    "#load the data\n",
    "scada_df = pd.read_csv(r'../datasets/la-haute-borne-data-2017-2020.zip', sep=';')\n",
    "\n",
    "# Inspect data head\n",
    "scada_df.head()"
   ]
  },
  {
   "cell_type": "code",
   "execution_count": 3,
   "id": "9ca69159-091c-42eb-9aa4-c7e1721c7813",
   "metadata": {},
   "outputs": [
    {
     "data": {
      "text/plain": [
       "(217588, 138)"
      ]
     },
     "execution_count": 3,
     "metadata": {},
     "output_type": "execute_result"
    }
   ],
   "source": [
    "# Inspect data shape\n",
    "scada_df.shape"
   ]
  },
  {
   "cell_type": "code",
   "execution_count": 4,
   "id": "313d6e3f-aaf0-47b8-892e-efbe2f23b010",
   "metadata": {},
   "outputs": [
    {
     "data": {
      "text/plain": [
       "array(['R80721', 'R80790', 'R80736', 'R80711'], dtype=object)"
      ]
     },
     "execution_count": 4,
     "metadata": {},
     "output_type": "execute_result"
    }
   ],
   "source": [
    "# Unique turbine count\n",
    "scada_df['Wind_turbine_name'].unique()"
   ]
  },
  {
   "cell_type": "code",
   "execution_count": 5,
   "id": "34b786b1-8cf5-4a51-a9c9-dff9452df085",
   "metadata": {},
   "outputs": [
    {
     "data": {
      "text/plain": [
       "'2017-01-01T00:00:00+01:00'"
      ]
     },
     "execution_count": 5,
     "metadata": {},
     "output_type": "execute_result"
    }
   ],
   "source": [
    "# Earliest time stamp\n",
    "scada_df['Date_time'].min()"
   ]
  },
  {
   "cell_type": "code",
   "execution_count": 6,
   "id": "16a7b2dc-59c1-42bb-8130-d28fe8d54b39",
   "metadata": {},
   "outputs": [
    {
     "data": {
      "text/plain": [
       "'2018-01-13T00:00:00+01:00'"
      ]
     },
     "execution_count": 6,
     "metadata": {},
     "output_type": "execute_result"
    }
   ],
   "source": [
    "# Latest time stamp\n",
    "scada_df['Date_time'].max()"
   ]
  },
  {
   "cell_type": "markdown",
   "id": "cc438576-604d-4651-97cf-e5fe86722124",
   "metadata": {},
   "source": [
    "##### Perform correlation analysis based on power output"
   ]
  },
  {
   "cell_type": "code",
   "execution_count": 7,
   "id": "b388dfd1-a47a-46a3-ac8c-529b75db4b26",
   "metadata": {},
   "outputs": [],
   "source": [
    "df_R80721 = scada_df[scada_df['Wind_turbine_name'] == 'R80721'][['Date_time', 'P_avg']]\n",
    "df_R80790 = scada_df[scada_df['Wind_turbine_name'] == 'R80790'][['Date_time', 'P_avg']]\n",
    "df_R80736 = scada_df[scada_df['Wind_turbine_name'] == 'R80736'][['Date_time', 'P_avg']]\n",
    "df_R80711 = scada_df[scada_df['Wind_turbine_name'] == 'R80711'][['Date_time', 'P_avg']]"
   ]
  },
  {
   "cell_type": "code",
   "execution_count": 8,
   "id": "59ac6cf7-cd09-4480-886b-dcb56337cdbd",
   "metadata": {},
   "outputs": [],
   "source": [
    "df_R80721.columns = ['Date_time', 'R80721']\n",
    "df_R80790.columns = ['Date_time', 'R80790']\n",
    "df_R80736.columns = ['Date_time', 'R80736']\n",
    "df_R80711.columns = ['Date_time', 'R80711']"
   ]
  },
  {
   "cell_type": "code",
   "execution_count": 9,
   "id": "ba3aaa3c-5f03-4ff9-9196-ed60c45202d1",
   "metadata": {},
   "outputs": [
    {
     "data": {
      "text/plain": [
       "R80721    54433\n",
       "R80736    54433\n",
       "R80711    54433\n",
       "R80790    54289\n",
       "Name: Wind_turbine_name, dtype: int64"
      ]
     },
     "execution_count": 9,
     "metadata": {},
     "output_type": "execute_result"
    }
   ],
   "source": [
    "scada_df['Wind_turbine_name'].value_counts()"
   ]
  },
  {
   "cell_type": "code",
   "execution_count": 10,
   "id": "bf40aea9-0838-4a54-a22a-6a840d9b5b51",
   "metadata": {},
   "outputs": [
    {
     "data": {
      "text/plain": [
       "(54433, 2)"
      ]
     },
     "execution_count": 10,
     "metadata": {},
     "output_type": "execute_result"
    }
   ],
   "source": [
    "df_R80736.shape"
   ]
  },
  {
   "cell_type": "code",
   "execution_count": 11,
   "id": "d91824b4-f515-476b-ad91-21e9523e3981",
   "metadata": {},
   "outputs": [],
   "source": [
    "df_list = [df_R80721, df_R80790, df_R80736, df_R80711]"
   ]
  },
  {
   "cell_type": "code",
   "execution_count": 12,
   "id": "f34e7254-2f11-4bb9-9f59-580b87650156",
   "metadata": {},
   "outputs": [
    {
     "name": "stdout",
     "output_type": "stream",
     "text": [
      "CPU times: total: 109 ms\n",
      "Wall time: 97 ms\n"
     ]
    }
   ],
   "source": [
    "%%time\n",
    "from functools import reduce\n",
    "\n",
    "df_merged = reduce(lambda  left,right: pd.merge(left, right, on=['Date_time'],\n",
    "                                            how='outer'), df_list)"
   ]
  },
  {
   "cell_type": "code",
   "execution_count": 13,
   "id": "5d533474-0f7a-4d34-8e2d-f4ef66dccf1f",
   "metadata": {},
   "outputs": [],
   "source": [
    "df_merged.dropna(inplace=True)\n",
    "df_merged.reset_index(drop=True, inplace=True)"
   ]
  },
  {
   "cell_type": "code",
   "execution_count": 14,
   "id": "a928d2f4-e41b-4f72-8b4d-39971bc33e33",
   "metadata": {},
   "outputs": [
    {
     "data": {
      "text/plain": [
       "Index(['Date_time', 'R80721', 'R80790', 'R80736', 'R80711'], dtype='object')"
      ]
     },
     "execution_count": 14,
     "metadata": {},
     "output_type": "execute_result"
    }
   ],
   "source": [
    "df_merged.columns"
   ]
  },
  {
   "cell_type": "code",
   "execution_count": 15,
   "id": "581dcba5-3d76-4586-a581-869ae68265a4",
   "metadata": {},
   "outputs": [],
   "source": [
    "corr = df_merged[['R80721', 'R80790', 'R80736', 'R80711']].corr()"
   ]
  },
  {
   "cell_type": "code",
   "execution_count": 17,
   "id": "ee9e0280-9e92-44de-8110-08b7ab5b8790",
   "metadata": {},
   "outputs": [
    {
     "data": {
      "image/png": "[encoded data removed]",
      "text/plain": [
       "<Figure size 864x432 with 1 Axes>"
      ]
     },
     "metadata": {
      "needs_background": "light"
     },
     "output_type": "display_data"
    }
   ],
   "source": [
    "plt.figure(figsize=(12,6))\n",
    "sns.heatmap(corr, annot=True, cmap='jet', annot_kws={\"fontsize\":12}, cbar=False);\n",
    "plt.xticks(fontsize=12)\n",
    "plt.yticks(rotation='horizontal', fontsize=12);"
   ]
  },
  {
   "cell_type": "markdown",
   "id": "04f913c3-6011-4ac2-b1fd-74825392ce59",
   "metadata": {},
   "source": [
    "### Data Processing"
   ]
  },
  {
   "cell_type": "code",
   "execution_count": 7,
   "id": "7410dfb3-cc38-4c91-8bbc-f9d512b3c9c8",
   "metadata": {},
   "outputs": [
    {
     "data": {
      "text/html": [
       "<div>\n",
       "<style scoped>\n",
       "    .dataframe tbody tr th:only-of-type {\n",
       "        vertical-align: middle;\n",
       "    }\n",
       "\n",
       "    .dataframe tbody tr th {\n",
       "        vertical-align: top;\n",
       "    }\n",
       "\n",
       "    .dataframe thead th {\n",
       "        text-align: right;\n",
       "    }\n",
       "</style>\n",
       "<table border=\"1\" class=\"dataframe\">\n",
       "  <thead>\n",
       "    <tr style=\"text-align: right;\">\n",
       "      <th></th>\n",
       "      <th>Date_time</th>\n",
       "      <th>Wind_turbine_name</th>\n",
       "      <th>Ws_avg</th>\n",
       "      <th>P_avg</th>\n",
       "    </tr>\n",
       "  </thead>\n",
       "  <tbody>\n",
       "    <tr>\n",
       "      <th>0</th>\n",
       "      <td>2017-02-08T08:00:00+01:00</td>\n",
       "      <td>R80721</td>\n",
       "      <td>0.18</td>\n",
       "      <td>-1.89000</td>\n",
       "    </tr>\n",
       "    <tr>\n",
       "      <th>1</th>\n",
       "      <td>2017-01-26T02:40:00+01:00</td>\n",
       "      <td>R80721</td>\n",
       "      <td>4.85</td>\n",
       "      <td>197.32001</td>\n",
       "    </tr>\n",
       "    <tr>\n",
       "      <th>2</th>\n",
       "      <td>2017-01-26T13:50:00+01:00</td>\n",
       "      <td>R80721</td>\n",
       "      <td>5.04</td>\n",
       "      <td>176.45000</td>\n",
       "    </tr>\n",
       "    <tr>\n",
       "      <th>3</th>\n",
       "      <td>2017-01-26T15:00:00+01:00</td>\n",
       "      <td>R80721</td>\n",
       "      <td>5.31</td>\n",
       "      <td>190.61000</td>\n",
       "    </tr>\n",
       "    <tr>\n",
       "      <th>4</th>\n",
       "      <td>2017-02-18T01:10:00+01:00</td>\n",
       "      <td>R80721</td>\n",
       "      <td>3.15</td>\n",
       "      <td>-2.88000</td>\n",
       "    </tr>\n",
       "  </tbody>\n",
       "</table>\n",
       "</div>"
      ],
      "text/plain": [
       "                   Date_time Wind_turbine_name  Ws_avg      P_avg\n",
       "0  2017-02-08T08:00:00+01:00            R80721    0.18   -1.89000\n",
       "1  2017-01-26T02:40:00+01:00            R80721    4.85  197.32001\n",
       "2  2017-01-26T13:50:00+01:00            R80721    5.04  176.45000\n",
       "3  2017-01-26T15:00:00+01:00            R80721    5.31  190.61000\n",
       "4  2017-02-18T01:10:00+01:00            R80721    3.15   -2.88000"
      ]
     },
     "execution_count": 7,
     "metadata": {},
     "output_type": "execute_result"
    }
   ],
   "source": [
    "# select required clumns\n",
    "scada_df = scada_df[['Date_time', 'Wind_turbine_name', 'Ws_avg', 'P_avg']]\n",
    "scada_df.head()"
   ]
  },
  {
   "cell_type": "code",
   "execution_count": 8,
   "id": "a495885a-da18-4971-a901-0bf64e9a1adf",
   "metadata": {},
   "outputs": [
    {
     "data": {
      "image/png": "[encoded data removed]",
      "text/plain": [
       "<Figure size 1080x432 with 2 Axes>"
      ]
     },
     "metadata": {
      "needs_background": "light"
     },
     "output_type": "display_data"
    }
   ],
   "source": [
    "# Create custom color map\n",
    "from matplotlib.colors import LinearSegmentedColormap\n",
    "\n",
    "myColors = ((0.0, 0.8, 0.0, 1.0), (0.8, 0.0, 0.0, 1.0))\n",
    "cmap = LinearSegmentedColormap.from_list('Custom', myColors, len(myColors))\n",
    "\n",
    "# Plot heatmap\n",
    "plt.figure(figsize=(15,6))\n",
    "ax = sns.heatmap(scada_df.isna().astype(int)+1, cmap=cmap);\n",
    "\n",
    "# Post-process visualization\n",
    "plt.xticks(fontsize=12)\n",
    "plt.yticks(fontsize=12)\n",
    "colorbar = ax.collections[0].colorbar\n",
    "colorbar.set_ticks([1.2, 1.8])\n",
    "colorbar.set_ticklabels(['Available', 'Missing'], fontsize=12)"
   ]
  },
  {
   "cell_type": "code",
   "execution_count": 9,
   "id": "17a3a004-b044-4e1f-829f-557b6b78bdbc",
   "metadata": {},
   "outputs": [
    {
     "name": "stdout",
     "output_type": "stream",
     "text": [
      "0.76% of original rows were removed\n"
     ]
    }
   ],
   "source": [
    "# Remove rows missing values\n",
    "original_length = scada_df.shape[0]\n",
    "scada_df.dropna(inplace=True)\n",
    "scada_df.reset_index(drop=True)\n",
    "print(f'{round((original_length-scada_df.shape[0])/original_length*100, 2)}% of original rows were removed')"
   ]
  },
  {
   "cell_type": "code",
   "execution_count": 10,
   "id": "4e61a6c4-7e75-43c5-9538-f31dc9a87cfb",
   "metadata": {},
   "outputs": [
    {
     "data": {
      "image/png": "[encoded data removed]",
      "text/plain": [
       "<Figure size 1080x432 with 2 Axes>"
      ]
     },
     "metadata": {
      "needs_background": "light"
     },
     "output_type": "display_data"
    }
   ],
   "source": [
    "myColors = ((0.0, 0.8, 0.0, 1.0), (0.8, 0.0, 0.0, 1.0))\n",
    "cmap = LinearSegmentedColormap.from_list('Custom', myColors, len(myColors))\n",
    "\n",
    "plt.figure(figsize=(15,6))\n",
    "ax = sns.heatmap(scada_df.isna().astype(int)+1, cmap=cmap);\n",
    "plt.xticks(fontsize=12)\n",
    "plt.yticks(fontsize=12)\n",
    "colorbar = ax.collections[0].colorbar\n",
    "colorbar.set_ticks([0.95, 1.05])\n",
    "colorbar.set_ticklabels(['Available', 'Missing'], fontsize=12)"
   ]
  },
  {
   "cell_type": "code",
   "execution_count": 11,
   "id": "e66dcf08-d63c-482f-ae38-8affa03514f8",
   "metadata": {},
   "outputs": [],
   "source": [
    "train_df = scada_df[scada_df['Date_time'] < '2017-09-22']\n",
    "train_df_ind = train_df.index\n",
    "test_df_ind = list(set(scada_df.index).difference(set(train_df_ind)))\n",
    "test_df = scada_df.loc[test_df_ind,:]"
   ]
  },
  {
   "cell_type": "code",
   "execution_count": 12,
   "id": "f38bc3a7-a202-4b08-9602-d87fc17ff5c4",
   "metadata": {},
   "outputs": [],
   "source": [
    "assert len(train_df) + len(test_df) == len(scada_df), 'Data split mismatch'"
   ]
  },
  {
   "cell_type": "code",
   "execution_count": 13,
   "id": "728ebee4-de36-4c5b-a8ac-c58bb74030b0",
   "metadata": {},
   "outputs": [
    {
     "name": "stdout",
     "output_type": "stream",
     "text": [
      "Training data is 70% of original data\n"
     ]
    }
   ],
   "source": [
    "print(f'Training data is {round(len(train_df)/len(scada_df) * 100)}% of original data')"
   ]
  },
  {
   "cell_type": "markdown",
   "id": "7e108695-b5a6-44c5-823b-d5b7b1405a4f",
   "metadata": {},
   "source": [
    "### Data Exploration"
   ]
  },
  {
   "cell_type": "code",
   "execution_count": 14,
   "id": "754e3204-ea87-4e63-acf1-662610254c30",
   "metadata": {},
   "outputs": [
    {
     "data": {
      "text/plain": [
       "(151261, 4)"
      ]
     },
     "execution_count": 14,
     "metadata": {},
     "output_type": "execute_result"
    }
   ],
   "source": [
    "train_df.reset_index(drop=True, inplace=True)\n",
    "train_df.shape"
   ]
  },
  {
   "cell_type": "code",
   "execution_count": 15,
   "id": "2c953e6c-c666-484d-8038-e40aac9522d6",
   "metadata": {},
   "outputs": [
    {
     "data": {
      "text/plain": [
       "(64669, 4)"
      ]
     },
     "execution_count": 15,
     "metadata": {},
     "output_type": "execute_result"
    }
   ],
   "source": [
    "test_df.reset_index(drop=True, inplace=True)\n",
    "test_df.shape"
   ]
  },
  {
   "cell_type": "markdown",
   "id": "023d607d-6d83-4fc7-ac11-85380733e9ae",
   "metadata": {
    "tags": []
   },
   "source": [
    "### Test Expected Power Module"
   ]
  },
  {
   "cell_type": "code",
   "execution_count": 16,
   "id": "ff11dd34-ee03-4f64-90bb-5ceff889d7d8",
   "metadata": {},
   "outputs": [],
   "source": [
    "power_model = ExpectedPower(turbine_label='Wind_turbine_name', windspeed_label='Ws_avg',\n",
    "                            power_label='P_avg', method='binning', kind='cubic')"
   ]
  },
  {
   "cell_type": "code",
   "execution_count": 17,
   "id": "d970d15b-8bb5-47d0-ab07-735741baa845",
   "metadata": {},
   "outputs": [
    {
     "name": "stdout",
     "output_type": "stream",
     "text": [
      "CPU times: total: 2.97 s\n",
      "Wall time: 2.96 s\n"
     ]
    }
   ],
   "source": [
    "%%time\n",
    "power_model = power_model.fit(train_df)"
   ]
  },
  {
   "cell_type": "code",
   "execution_count": 18,
   "id": "2b43a9c8-5003-4e84-ac6f-fb82ed42433e",
   "metadata": {},
   "outputs": [
    {
     "name": "stdout",
     "output_type": "stream",
     "text": [
      "CPU times: total: 46.9 ms\n",
      "Wall time: 56 ms\n"
     ]
    }
   ],
   "source": [
    "%%time\n",
    "pred_df = test_df.copy()\n",
    "pred_df['expected_power_linear'] = power_model.predict(test_df)['expected_power']"
   ]
  },
  {
   "cell_type": "code",
   "execution_count": 19,
   "id": "a9f87ea3-b640-475e-b2eb-90b231569e40",
   "metadata": {},
   "outputs": [
    {
     "name": "stdout",
     "output_type": "stream",
     "text": [
      "CPU times: total: 46.9 ms\n",
      "Wall time: 46 ms\n"
     ]
    }
   ],
   "source": [
    "%%time\n",
    "pred_df['expected_power_quad'] = power_model.predict(test_df)['expected_power']"
   ]
  },
  {
   "cell_type": "code",
   "execution_count": 20,
   "id": "e3328ba4-dcea-4c1e-af6e-0ec80ada03b7",
   "metadata": {},
   "outputs": [
    {
     "name": "stdout",
     "output_type": "stream",
     "text": [
      "CPU times: total: 46.9 ms\n",
      "Wall time: 42 ms\n"
     ]
    }
   ],
   "source": [
    "%%time\n",
    "pred_df['expected_power_cubic'] = power_model.predict(test_df)['expected_power']"
   ]
  },
  {
   "cell_type": "markdown",
   "id": "8935eb2d-178d-419f-a270-22dc8cc1dfad",
   "metadata": {},
   "source": [
    "##### Root mean square metric"
   ]
  },
  {
   "cell_type": "code",
   "execution_count": 21,
   "id": "4262a44c-1bba-4cbc-b8d3-0a3f6f35aa21",
   "metadata": {},
   "outputs": [
    {
     "data": {
      "text/plain": [
       "118.25716853367274"
      ]
     },
     "execution_count": 21,
     "metadata": {},
     "output_type": "execute_result"
    }
   ],
   "source": [
    "#linear\n",
    "mean_squared_error(pred_df.P_avg.values, pred_df.expected_power_linear.values, squared=False)"
   ]
  },
  {
   "cell_type": "code",
   "execution_count": 22,
   "id": "ea86af14-63ef-46ab-a0fc-b1e2d8f3fe33",
   "metadata": {},
   "outputs": [
    {
     "data": {
      "text/plain": [
       "118.25716853367274"
      ]
     },
     "execution_count": 22,
     "metadata": {},
     "output_type": "execute_result"
    }
   ],
   "source": [
    "#quad\n",
    "mean_squared_error(pred_df.P_avg.values, pred_df.expected_power_quad.values, squared=False)"
   ]
  },
  {
   "cell_type": "code",
   "execution_count": 23,
   "id": "534d97a5-5caa-42c5-83f4-0b7c6e00ec32",
   "metadata": {},
   "outputs": [
    {
     "data": {
      "text/plain": [
       "118.25716853367274"
      ]
     },
     "execution_count": 23,
     "metadata": {},
     "output_type": "execute_result"
    }
   ],
   "source": [
    "#cubic\n",
    "mean_squared_error(pred_df.P_avg.values, pred_df.expected_power_cubic.values, squared=False)"
   ]
  },
  {
   "cell_type": "markdown",
   "id": "bcbac37c-55fd-47f5-9316-9022ef91442e",
   "metadata": {},
   "source": [
    "### Save the prediction data"
   ]
  },
  {
   "cell_type": "code",
   "execution_count": 24,
   "id": "7fcf1570-57a5-4714-95b8-82324aa30b1e",
   "metadata": {},
   "outputs": [],
   "source": [
    "# pred_df.to_excel(r'..\\predictions.xlsx', index=False)"
   ]
  },
  {
   "cell_type": "code",
   "execution_count": null,
   "id": "33878907-e364-4c92-a43a-e583ed915559",
   "metadata": {},
   "outputs": [],
   "source": []
  }
 ],
 "metadata": {
  "kernelspec": {
   "display_name": "Python 3",
   "language": "python",
   "name": "python3"
  },
  "language_info": {
   "codemirror_mode": {
    "name": "ipython",
    "version": 3
   },
   "file_extension": ".py",
   "mimetype": "text/x-python",
   "name": "python",
   "nbconvert_exporter": "python",
   "pygments_lexer": "ipython3",
   "version": "3.10.4"
  }
 },
 "nbformat": 4,
 "nbformat_minor": 5
}
