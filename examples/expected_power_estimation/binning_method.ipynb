{
 "cells": [
  {
   "cell_type": "markdown",
   "id": "b624e31e-63a0-4e86-b098-094a3a4a8438",
   "metadata": {},
   "source": [
    "### Example of expected power module usage"
   ]
  },
  {
   "cell_type": "code",
   "execution_count": 50,
   "id": "bb251828-5a0f-4f4f-a2eb-eb3ff68becec",
   "metadata": {},
   "outputs": [],
   "source": [
    "import numpy as np\n",
    "import pandas as pd\n",
    "\n",
    "from scipy.interpolate import interp1d\n",
    "from scada_data_analysis.modules.power_curve_preprocessing import PowerCurveFiltering as pcf"
   ]
  },
  {
   "cell_type": "code",
   "execution_count": 2,
   "id": "c768116d-0435-48a9-b7c8-c45f20cef2e2",
   "metadata": {},
   "outputs": [],
   "source": [
    "df = pd.read_csv('..\\datasets\\la-haute-borne-data-2017-2020.zip', sep=';')"
   ]
  },
  {
   "cell_type": "code",
   "execution_count": null,
   "id": "4155f280-0848-4886-99c5-6fcf1b89f683",
   "metadata": {
    "jupyter": {
     "source_hidden": true
    },
    "tags": []
   },
   "outputs": [],
   "source": [
    "class BinningMethod:\n",
    "    def __init__(self, turbine_label, windspeed_label, power_label, data=None, cut_in_speed=3,\n",
    "                 bin_interval=0.5, z_coeff=2, filter_cycle=5, method='linear') -> None:\n",
    "        \"\"\"\n",
    "        turbine_label: column name of unique turbine identifier\n",
    "        windspeed_label: column name of wind speed\n",
    "        power_label: column name of active power\n",
    "        data: pandas dataframe of scada data\n",
    "        cut_in_speed: cut in speed of turbine\n",
    "        bin_interval: Wind speed bin interval\n",
    "        z_coeff: threshold of standard deviation used in filter within which operational data is considered normal\n",
    "        filter_cycle: number of times to pass scada data through filter\n",
    "        method: method used to calculate the expected power. Available methods are: 'linear', 'quadratic' and 'cubic'.\n",
    "        Quadratic and cubic methods use spline interpolation of second and third order respectively.\n",
    "        \"\"\"\n",
    "        self.turbine_label = turbine_label\n",
    "        self.windspeed_label = windspeed_label\n",
    "        self.power_label = power_label \n",
    "        self.data = data\n",
    "        self.cut_in_speed = cut_in_speed\n",
    "        self.bin_interval = bin_interval\n",
    "        self.z_coeff = z_coeff\n",
    "        self.filter_cycle = filter_cycle\n",
    "        self.method = method\n",
    "        \n",
    "        # Initialize power curve processing class\n",
    "        pc_filter = pcp.PowerCurvePreprocessing(self.turbine_label, self.windspeed_label, self.power_label,\n",
    "                                                self.data, self.cut_in_speed, self.bin_interval, self.z_coeff,\n",
    "                                                self.filter_cycle, self.method)\n",
    "\n",
    "        # Get data points during normal operating conditions\n",
    "        normal_df, _ = pc_filter.process()\n",
    "        \n",
    "        # For each turbine, get statistics of the wind speed bin and active power"
   ]
  },
  {
   "cell_type": "code",
   "execution_count": 6,
   "id": "4565ebdf-a0c5-46b2-bc8f-5a201463e4aa",
   "metadata": {},
   "outputs": [],
   "source": [
    "pc_filter = pcf(turbine_label='Wind_turbine_name', windspeed_label='Ws_avg',\n",
    "                power_label='P_avg', data=df, cut_in_speed=3, bin_interval=0.5,\n",
    "                z_coeff=2.5, filter_cycle=5)"
   ]
  },
  {
   "cell_type": "code",
   "execution_count": 41,
   "id": "a88f341f-019f-4a9f-b484-d0a632e66245",
   "metadata": {},
   "outputs": [
    {
     "name": "stdout",
     "output_type": "stream",
     "text": [
      "Wall time: 5.32 s\n"
     ]
    }
   ],
   "source": [
    "%%time\n",
    "normal_df, _ = pc_filter.process()"
   ]
  },
  {
   "cell_type": "markdown",
   "id": "57469fa6-d3d0-468b-ae7b-142f9c7db3ee",
   "metadata": {},
   "source": [
    "### For each turbine, get statistics of the wind speed bin and active power"
   ]
  },
  {
   "cell_type": "code",
   "execution_count": 42,
   "id": "8798d72b-cfbf-465c-82af-437f20d20ce1",
   "metadata": {},
   "outputs": [],
   "source": [
    "def binning_func(turbine_data, turbine_label='Wind_turbine_name', windspeed_label='Ws_avg',\n",
    "                power_label='P_avg', data=df, cut_in_speed=3, bin_interval=0.5,\n",
    "                z_coeff=2.5):\n",
    "        \"\"\"\n",
    "        Bins wind speed into group of values using bin_interval\n",
    "        \n",
    "        turbine_data: pandas dataframe containing windspeed and power columns\n",
    "        \n",
    "        Returns: Median wind speed, average and standard deviation of produced power for each bin\n",
    "        \"\"\"\n",
    "        turb_df = turbine_data.copy()\n",
    "        max_windspeed = int(max(turb_df[windspeed_label]))\n",
    "        \n",
    "        windspeed_bins = pd.IntervalIndex.from_tuples([(round(bin_interval*a, 2),\n",
    "                                                        round((bin_interval*a)+bin_interval, 2))\\\n",
    "                                                            for a in range(0, 2*max_windspeed+1)])\n",
    "        \n",
    "        turb_df.loc[:, 'windspeed_bin'] = pd.cut(turb_df[windspeed_label], bins=windspeed_bins)\n",
    "        \n",
    "        binned_turb_df = turb_df.groupby('windspeed_bin', as_index=False)[[windspeed_label,\n",
    "                                                                           power_label]].agg({windspeed_label: 'median',\n",
    "                                                                           power_label: ['mean', 'std']},\n",
    "                                                                           as_index=False).dropna(subset=[(power_label,\n",
    "                                                                           'mean')]).fillna({(power_label,\n",
    "                                                                                              'std'): 0}).reset_index(drop=True)\n",
    "        \n",
    "        binned_turb_df.columns = ['windspeed_bin', 'windspeed_bin_median', 'pwr_bin_mean', 'pwr_bin_std']\n",
    "        \n",
    "        return binned_turb_df"
   ]
  },
  {
   "cell_type": "code",
   "execution_count": 43,
   "id": "97ed5460-df60-45da-83cb-fccbdca9e34b",
   "metadata": {},
   "outputs": [],
   "source": [
    "def expected_power_run(dff, normal_dff, method='linear'):\n",
    "    dff = dff.copy()\n",
    "    normal_dff = normal_dff.copy()\n",
    "    dff['expected_power'] = 0\n",
    "    \n",
    "    turbine_names = dff['Wind_turbine_name'].unique()\n",
    "    \n",
    "    for turbine_name in turbine_names:\n",
    "        turb_df = dff[dff.Wind_turbine_name == turbine_name]\n",
    "        turb_df_index = turb_df.index\n",
    "        \n",
    "        normal_turb_df = normal_dff[normal_dff.Wind_turbine_name == turbine_name]\n",
    "        binned_df = binning_func(normal_turb_df)\n",
    "        \n",
    "        f = interp1d(binned_df.windspeed_bin_median, binned_df.pwr_bin_mean, kind=method, fill_value=\"extrapolate\")\n",
    "\n",
    "        dff.loc[turb_df_index, 'expected_power'] = f(turb_df.Ws_avg)\n",
    "        \n",
    "    dff['expected_power'].clip(0, inplace=True)\n",
    "    \n",
    "    return dff"
   ]
  },
  {
   "cell_type": "code",
   "execution_count": 71,
   "id": "99423244-4cb2-4b22-aed8-28f40b7d0564",
   "metadata": {},
   "outputs": [
    {
     "name": "stdout",
     "output_type": "stream",
     "text": [
      "Wall time: 849 ms\n"
     ]
    }
   ],
   "source": [
    "%%time\n",
    "proc_df = expected_power_run(df, normal_df, 'linear')"
   ]
  },
  {
   "cell_type": "code",
   "execution_count": 72,
   "id": "2bf0f369-ec4e-4ab7-9bb8-3e196e42a72a",
   "metadata": {},
   "outputs": [
    {
     "data": {
      "text/plain": [
       "(217588, 139)"
      ]
     },
     "execution_count": 72,
     "metadata": {},
     "output_type": "execute_result"
    }
   ],
   "source": [
    "proc_df.shape"
   ]
  },
  {
   "cell_type": "code",
   "execution_count": 73,
   "id": "8a7c069a-2756-40df-8851-002e9b3d1da0",
   "metadata": {},
   "outputs": [
    {
     "data": {
      "text/plain": [
       "(217588, 138)"
      ]
     },
     "execution_count": 73,
     "metadata": {},
     "output_type": "execute_result"
    }
   ],
   "source": [
    "df.shape"
   ]
  },
  {
   "cell_type": "code",
   "execution_count": 76,
   "id": "2f5413c3-11f0-483d-8d8f-d90361be9bb0",
   "metadata": {},
   "outputs": [
    {
     "data": {
      "text/plain": [
       "2.3472891287236393"
      ]
     },
     "execution_count": 76,
     "metadata": {},
     "output_type": "execute_result"
    }
   ],
   "source": [
    "np.sum(proc_df.expected_power - proc_df.P_avg)/np.sum(proc_df.expected_power)*100"
   ]
  },
  {
   "cell_type": "code",
   "execution_count": null,
   "id": "683fd872-f16f-4106-996f-ce1f91abd3b8",
   "metadata": {},
   "outputs": [],
   "source": []
  }
 ],
 "metadata": {
  "kernelspec": {
   "display_name": "wea",
   "language": "python",
   "name": "wea"
  },
  "language_info": {
   "codemirror_mode": {
    "name": "ipython",
    "version": 3
   },
   "file_extension": ".py",
   "mimetype": "text/x-python",
   "name": "python",
   "nbconvert_exporter": "python",
   "pygments_lexer": "ipython3",
   "version": "3.9.5"
  }
 },
 "nbformat": 4,
 "nbformat_minor": 5
}
